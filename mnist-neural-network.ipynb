{
 "cells": [
  {
   "cell_type": "code",
   "execution_count": 1,
   "id": "008fc7bc",
   "metadata": {
    "_cell_guid": "b1076dfc-b9ad-4769-8c92-a6c4dae69d19",
    "_uuid": "8f2839f25d086af736a60e9eeb907d3b93b6e0e5",
    "execution": {
     "iopub.execute_input": "2023-09-05T18:48:17.769237Z",
     "iopub.status.busy": "2023-09-05T18:48:17.768521Z",
     "iopub.status.idle": "2023-09-05T18:48:22.046235Z",
     "shell.execute_reply": "2023-09-05T18:48:22.045098Z"
    },
    "papermill": {
     "duration": 4.288576,
     "end_time": "2023-09-05T18:48:22.049360",
     "exception": false,
     "start_time": "2023-09-05T18:48:17.760784",
     "status": "completed"
    },
    "tags": []
   },
   "outputs": [
    {
     "name": "stdout",
     "output_type": "stream",
     "text": [
      "/kaggle/input/digit-recognizer/sample_submission.csv\n",
      "/kaggle/input/digit-recognizer/train.csv\n",
      "/kaggle/input/digit-recognizer/test.csv\n"
     ]
    }
   ],
   "source": [
    "# This Python 3 environment comes with many helpful analytics libraries installed\n",
    "# It is defined by the kaggle/python Docker image: https://github.com/kaggle/docker-python\n",
    "# For example, here's several helpful packages to load\n",
    "\n",
    "import numpy as np # linear algebra\n",
    "import pandas as pd # data processing, CSV file I/O (e.g. pd.read_csv)\n",
    "\n",
    "# Input data files are available in the read-only \"../input/\" directory\n",
    "# For example, running this (by clicking run or pressing Shift+Enter) will list all files under the input directory\n",
    "\n",
    "import os\n",
    "for dirname, _, filenames in os.walk('/kaggle/input'):\n",
    "    for filename in filenames:\n",
    "        print(os.path.join(dirname, filename))\n",
    "data = pd.read_csv('/kaggle/input/digit-recognizer/train.csv')\n",
    "\n",
    "# You can write up to 20GB to the current directory (/kaggle/working/) that gets preserved as output when you create a version using \"Save & Run All\" \n",
    "# You can also write temporary files to /kaggle/temp/, but they won't be saved outside of the current session"
   ]
  },
  {
   "cell_type": "code",
   "execution_count": 2,
   "id": "9fd15d21",
   "metadata": {
    "execution": {
     "iopub.execute_input": "2023-09-05T18:48:22.061452Z",
     "iopub.status.busy": "2023-09-05T18:48:22.061031Z",
     "iopub.status.idle": "2023-09-05T18:48:22.071708Z",
     "shell.execute_reply": "2023-09-05T18:48:22.070569Z"
    },
    "papermill": {
     "duration": 0.021106,
     "end_time": "2023-09-05T18:48:22.075784",
     "exception": false,
     "start_time": "2023-09-05T18:48:22.054678",
     "status": "completed"
    },
    "tags": []
   },
   "outputs": [],
   "source": [
    "weights_input_hidden = np.random.uniform(-1, 1, (196, 784))\n",
    "biases_input_hidden = np.random.uniform(-0.5, 0.5, (196, 1))\n",
    "        \n",
    "    \n",
    "weights_hidden_output = np.random.uniform(-1, 1, (10, 196))\n",
    "biases_hidden_output = np.random.uniform(-0.5, 0.5, (10, 1))\n"
   ]
  },
  {
   "cell_type": "markdown",
   "id": "b7e223b0",
   "metadata": {
    "papermill": {
     "duration": 0.004495,
     "end_time": "2023-09-05T18:48:22.086763",
     "exception": false,
     "start_time": "2023-09-05T18:48:22.082268",
     "status": "completed"
    },
    "tags": []
   },
   "source": [
    "class Model:\n",
    "    def s"
   ]
  },
  {
   "cell_type": "code",
   "execution_count": 3,
   "id": "1d999718",
   "metadata": {
    "execution": {
     "iopub.execute_input": "2023-09-05T18:48:22.098334Z",
     "iopub.status.busy": "2023-09-05T18:48:22.097790Z",
     "iopub.status.idle": "2023-09-05T18:49:39.021956Z",
     "shell.execute_reply": "2023-09-05T18:49:39.020367Z"
    },
    "papermill": {
     "duration": 76.94466,
     "end_time": "2023-09-05T18:49:39.036143",
     "exception": false,
     "start_time": "2023-09-05T18:48:22.091483",
     "status": "completed"
    },
    "tags": []
   },
   "outputs": [
    {
     "name": "stdout",
     "output_type": "stream",
     "text": [
      "94\n",
      "0.094\n"
     ]
    }
   ],
   "source": [
    "import numpy as np\n",
    "\n",
    "class Model:\n",
    "    def __init__(self, weights_input_hidden, biases_input_hidden, weights_hidden_output, biases_hidden_output):\n",
    "        self.weights_input_hidden = weights_input_hidden\n",
    "        self.biases_input_hidden = biases_input_hidden\n",
    "        self.weights_hidden_output = weights_hidden_output\n",
    "        self.biases_hidden_output = biases_hidden_output\n",
    "        self.correct = 0\n",
    "        self.learningrate = 0.1\n",
    "\n",
    "    def relu(self, x):\n",
    "        return np.maximum(0, x)\n",
    "\n",
    "    def reluderivative(self, x):\n",
    "        return np.where(x > 0, 1, 0)\n",
    "\n",
    "    def forward_back(self, answer, inp):\n",
    "        hidden_output = self.relu(self.weights_input_hidden @ inp + self.biases_input_hidden)\n",
    "        output = self.relu(self.weights_hidden_output @ hidden_output + self.biases_hidden_output)\n",
    "\n",
    "        delta_out = (output - answer) * self.reluderivative(output)\n",
    "        self.weights_hidden_output -= delta_out @ hidden_output.T * self.learningrate\n",
    "        self.biases_hidden_output -= delta_out\n",
    "\n",
    "        delta_hidden = self.weights_hidden_output.T @ delta_out * self.reluderivative(hidden_output)\n",
    "        self.weights_input_hidden -= delta_hidden @ inp.T * self.learningrate\n",
    "        self.biases_input_hidden -= delta_hidden * self.learningrate\n",
    "\n",
    "        return output\n",
    "\n",
    "    def train(self, data_train, data_dev):\n",
    "        for epochs in range(1):\n",
    "            for data in data_train:\n",
    "                answer = np.zeros((10, 1))\n",
    "                answer[data[0], 0] = 1\n",
    "                input_data = data[1:]\n",
    "                input_data.shape += (1,)\n",
    "                self.forward_back(answer, input_data)\n",
    "        for data in data_dev:\n",
    "            answer = np.zeros((10, 1))\n",
    "            answer[data[0], 0] = 1\n",
    "            input_data = data[1:]\n",
    "            input_data.shape += (1,)\n",
    "            output = self.forward_back(answer, input_data)\n",
    "            prediction = np.argmax(output)\n",
    "            if prediction == data[0]:\n",
    "                self.correct += 1\n",
    "        \n",
    "data = np.array(data)\n",
    "np.random.shuffle(data)\n",
    "m, n = data.shape\n",
    "\n",
    "data_dev = data[0:1000]\n",
    "data_train = data[1000:m]\n",
    "\n",
    "\n",
    "# Create an instance of the Model class\n",
    "test = Model(weights_input_hidden, biases_input_hidden, weights_hidden_output, biases_hidden_output)\n",
    "\n",
    "test.train(data_train,data_dev)\n",
    "print(test.correct)\n",
    "print(test.correct/1000)\n",
    "\n",
    "\n",
    "\n"
   ]
  },
  {
   "cell_type": "code",
   "execution_count": 4,
   "id": "b5fa22c1",
   "metadata": {
    "execution": {
     "iopub.execute_input": "2023-09-05T18:49:39.058549Z",
     "iopub.status.busy": "2023-09-05T18:49:39.057825Z",
     "iopub.status.idle": "2023-09-05T18:49:39.433454Z",
     "shell.execute_reply": "2023-09-05T18:49:39.431890Z"
    },
    "papermill": {
     "duration": 0.389909,
     "end_time": "2023-09-05T18:49:39.435883",
     "exception": false,
     "start_time": "2023-09-05T18:49:39.045974",
     "status": "completed"
    },
    "tags": []
   },
   "outputs": [
    {
     "name": "stdout",
     "output_type": "stream",
     "text": [
      "Predicted Class: 0\n",
      "Correct Class: 1\n"
     ]
    },
    {
     "data": {
      "image/png": "[encoded data removed]",
      "text/plain": [
       "<Figure size 640x480 with 1 Axes>"
      ]
     },
     "metadata": {},
     "output_type": "display_data"
    }
   ],
   "source": [
    "import matplotlib.pyplot as plt\n",
    "example_index = 38  # Choose the index of the example you want to test\n",
    "\n",
    "example_data = data_dev[example_index]\n",
    "correct_label = example_data[0]\n",
    "input_data = example_data[1:]\n",
    "input_data.shape += (1,)\n",
    "\n",
    "# Convert correct label to one-hot encoding\n",
    "answer = np.zeros((10, 1))\n",
    "answer[correct_label, 0] = 1\n",
    "\n",
    "# Calculate the network's output\n",
    "output = test.forward_back(answer, input_data)\n",
    "# Get the predicted class\n",
    "predicted_class = np.argmax(output)\n",
    "\n",
    "print(\"Predicted Class:\", predicted_class)\n",
    "print(\"Correct Class:\", correct_label)\n",
    "image = input_data.reshape(28, 28)\n",
    "plt.imshow(image, cmap='gray')\n",
    "plt.title(f\"Predicted: {predicted_class}, Correct: {correct_label}\")\n",
    "plt.show()"
   ]
  }
 ],
 "kernelspec": {
  "display_name": "Python 3",
  "language": "python",
  "name": "python3"
 },
 "language_info": {
  "codemirror_mode": {
   "name": "ipython",
   "version": 3
  },
  "file_extension": ".py",
  "mimetype": "text/x-python",
  "name": "python",
  "nbconvert_exporter": "python",
  "pygments_lexer": "ipython3",
  "version": "3.6.4"
 },
 "metadata": {
  "kernelspec": {
   "display_name": "Python 3",
   "language": "python",
   "name": "python3"
  },
  "language_info": {
   "codemirror_mode": {
    "name": "ipython",
    "version": 3
   },
   "file_extension": ".py",
   "mimetype": "text/x-python",
   "name": "python",
   "nbconvert_exporter": "python",
   "pygments_lexer": "ipython3",
   "version": "3.10.12"
  },
  "papermill": {
   "default_parameters": {},
   "duration": 96.019099,
   "end_time": "2023-09-05T18:49:40.363702",
   "environment_variables": {},
   "exception": null,
   "input_path": "__notebook__.ipynb",
   "output_path": "__notebook__.ipynb",
   "parameters": {},
   "start_time": "2023-09-05T18:48:04.344603",
   "version": "2.4.0"
  }
 },
 "nbformat": 4,
 "nbformat_minor": 5
}
